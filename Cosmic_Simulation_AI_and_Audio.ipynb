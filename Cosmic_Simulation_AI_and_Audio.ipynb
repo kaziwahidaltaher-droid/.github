{
  "nbformat": 4,
  "nbformat_minor": 0,
  "metadata": {
    "colab": {
      "provenance": [],
      "history_visible": true,
      "include_colab_link": true
    },
    "language_info": {
      "name": "python"
    },
    "kernelspec": {
      "name": "python3",
      "display_name": "Python 3"
    }
  },
  "cells": [
    {
      "cell_type": "markdown",
      "metadata": {
        "id": "view-in-github",
        "colab_type": "text"
      },
      "source": [
        "<a href=\"https://colab.research.google.com/github/kaziwahidaltaher-droid/.github/blob/main/Cosmic_Simulation_AI_and_Audio.ipynb\" target=\"_parent\"><img src=\"https://colab.research.google.com/assets/colab-badge.svg\" alt=\"Open In Colab\"/></a>"
      ]
    },
    {
      "cell_type": "markdown",
      "metadata": {
        "id": "Gc4BqPpVpUFa"
      },
      "source": [
        "# Setup\n",
        "\n",
        "Please ensure you have imported a Gemini API key from AI Studio.\n",
        "You can do this directly in the Secrets tab on the left.\n",
        "\n",
        "After doing so, please run the setup cell below."
      ]
    },
    {
      "cell_type": "code",
      "source": [],
      "metadata": {
        "id": "_Gimwn69vh42"
      },
      "execution_count": null,
      "outputs": []
    },
    {
      "cell_type": "code",
      "metadata": {
        "id": "ETeaa1m3pUFc"
      },
      "source": [
        "/tmp/ipython-input-9294624.py in <cell line: 0>()\n",
        "      2 from google.colab import userdata\n",
        "      3\n",
        "----> 4 os.environ[\"GEMINI_API_🔑\"] = userdata.get(\"GOOGLE_API_🔑\")\n",
        "\n",
        "/usr/local/lib/python3.12/dist-packages/google/colab/userdata.py in get(🔑)\n",
        "     66     raise TimeoutException(🔑)\n",
        "     67   if not resp.get('exists', False):\n",
        "---> 68     raise SecretNotFoundError(key)\n",
        "     69   if not resp.get('access', False):\n",
        "     70     raise NotebookAccessError(key)\n"
      ],
      "execution_count": null,
      "outputs": []
    },
    {
      "cell_type": "markdown",
      "metadata": {
        "id": "GYSCOYMTpUFe"
      },
      "source": [
        "# Generated Code"
      ]
    },
    {
      "cell_type": "code",
      "source": [],
      "metadata": {
        "id": "HHKkGIgntjPg"
      },
      "execution_count": null,
      "outputs": []
    },
    {
      "cell_type": "markdown",
      "source": [
        "Add `%load_ext cudf.pandas` before importing pandas to speed up operations using GPU"
      ],
      "metadata": {
        "id": "gqlY0hJZ_HtX"
      }
    },
    {
      "cell_type": "code",
      "source": [
        "%load_ext cudf.pandas\n",
        "import pandas as pd\n",
        "import numpy as np\n",
        "\n",
        "# Randomly generated dataset of parking violations-\n",
        "# Define the number of rows\n",
        "num_rows = 1000000\n",
        "\n",
        "states = [\"NY\", \"NJ\", \"CA\", \"TX\"]\n",
        "violations = [\"Double Parking\", \"Expired Meter\", \"No Parking\",\n",
        "              \"Fire Hydrant\", \"Bus Stop\"]\n",
        "vehicle_types = [\"SUBN\", \"SDN\"]\n",
        "\n",
        "# Create a date range\n",
        "start_date = \"2022-01-01\"\n",
        "end_date = \"2022-12-31\"\n",
        "dates = pd.date_range(start=start_date, end=end_date, freq='D')\n",
        "\n",
        "# Generate random data\n",
        "data = {\n",
        "    \"Registration State\": np.random.choice(states, size=num_rows),\n",
        "    \"Violation Description\": np.random.choice(violations, size=num_rows),\n",
        "    \"Vehicle Body Type\": np.random.choice(vehicle_types, size=num_rows),\n",
        "    \"Issue Date\": np.random.choice(dates, size=num_rows),\n",
        "    \"Ticket Number\": np.random.randint(1000000000, 9999999999, size=num_rows)\n",
        "}\n",
        "\n",
        "# Create a DataFrame\n",
        "df = pd.DataFrame(data)\n",
        "\n",
        "# Which parking violation is most commonly committed by vehicles from various U.S states?\n",
        "\n",
        "(df[[\"Registration State\", \"Violation Description\"]]  # get only these two columns\n",
        " .value_counts()  # get the count of offences per state and per type of offence\n",
        " .groupby(\"Registration State\")  # group by state\n",
        " .head(1)  # get the first row in each group (the type of offence with the largest count)\n",
        " .sort_index()  # sort by state name\n",
        " .reset_index()\n",
        ")"
      ],
      "metadata": {
        "id": "Qd6wJzyz_HtY"
      },
      "execution_count": null,
      "outputs": []
    },
    {
      "cell_type": "code",
      "metadata": {
        "id": "IIK75iMVpUFe"
      },
      "source": [
        "# @title Default title text\n",
        "variable_name = \"AURELION\" # @param {\"type\":\"string\"}\n",
        "# To run this code you need to install the following dependencies:\n",
        "# pip install google-genai\n",
        "\n",
        "import base64\n",
        "import os\n",
        "from google import genai\n",
        "from google.genai import types\n",
        "\n",
        "\n",
        "def generate():\n",
        "    client = genai.Client(\n",
        "        api_key=os.environ.get(\"GEMINI_API_KEY\"),\n",
        "    )\n",
        "\n",
        "    model = \"gemini-2.5-flash\"\n",
        "    contents = [\n",
        "        types.Content(\n",
        "            role=\"user\",\n",
        "            parts=[\n",
        "                types.Part.from_text(text=\"\"\"<urlset xmlns=\\\"http://www.sitemaps.org/schemas/sitemap/0.9\\\" xmlns:xsi=\\\"http://www.w3.org/2001/XMLSchema-instance\\\" xsi:schemaLocation=\\\"http://www.sitemaps.org/schemas/sitemap/0.9 http://www.sitemaps.org/schemas/sitemap/0.9/sitemap.xsd\\\">\n",
        "<!--  created with Free Online Sitemap Generator www.xml-sitemaps.com  -->\n",
        "<url>\n",
        "<loc>https://cosmic-pulse-an-audio-reactive-galaxy-184571359742.us-west1.run.app/</loc>\n",
        "<lastmod>2025-08-28T21:04:39+00:00</lastmod>\n",
        "</url>\n",
        "</urlset>\"\"\"),\n",
        "            ],\n",
        "        ),\n",
        "        types.Content(\n",
        "            role=\"model\",\n",
        "            parts=[\n",
        "                types.Part.from_text(text=\"\"\"**Analyzing Sitemap URLs**\n",
        "\n",
        "I've extracted the URLs from the XML sitemap provided, specifically focusing on the `<loc>` tags. My next step is to begin browsing these identified URLs.\n",
        "\n",
        "\n",
        "\"\"\"),\n",
        "                types.Part.from_text(text=\"\"\"\n",
        "The page \\\"Cosmic Simulation\\\" is a web application that appears to be a 3D visualization of a \\\"cosmic web\\\" or galaxy, with interactive elements and audio reactivity. It allows users to:\n",
        "\n",
        "*   **Generate new cosmos**: Create new cosmic web structures with AI-powered configurations.\n",
        "*   **Summon probes**: Dispatch AI-guided deep space probes to random stars within the galaxy, which then travel to their target and provide telemetry.\n",
        "*   **Interact with the simulation**: Click on individual stars to get a poetic, cosmic observation of their properties (color, velocity, region) from an AI.\n",
        "*   **Control the camera**: Manually control the camera's position and target, or activate an \\\"autopilot\\\" to automatically focus on a random star.\n",
        "*   **Adjust voice settings**: Change the voice, pitch, and rate of the AI's spoken responses.\n",
        "*   **Observe system telemetry**: View real-time data such as the current mode (IDLE, MANEUVERING, AUTOPILOT), camera position, velocity, and target, as well as general system messages.\n",
        "\n",
        "The application uses Three.js for 3D rendering and appears to integrate with a Gemini AI model for generating descriptions and probe missions. It also incorporates audio analysis to create visual effects that react to sound.\"\"\"),\n",
        "            ],\n",
        "        ),\n",
        "        types.Content(\n",
        "            role=\"user\",\n",
        "            parts=[\n",
        "                types.Part.from_text(text=\"\"\"Include <urlset xmlns=\\\"http://www.sitemaps.org/schemas/sitemap/0.9\\\" xmlns:xsi=\\\"http://www.w3.org/2001/XMLSchema-instance\\\" xsi:schemaLocation=\\\"http://www.sitemaps.org/schemas/sitemap/0.9 http://www.sitemaps.org/schemas/sitemap/0.9/sitemap.xsd\\\">\n",
        "<!--  created with Free Online Sitemap Generator www.xml-sitemaps.com  -->\n",
        "<url>\n",
        "<loc>https://aurelion-an-audio-ai-galaxy-simulation-184571359742.us-west1.run.app/</loc>\n",
        "<lastmod>2025-08-28T21:33:03+00:00</lastmod>\n",
        "</url>\n",
        "</urlset>\"\"\"),\n",
        "            ],\n",
        "        ),\n",
        "        types.Content(\n",
        "            role=\"model\",\n",
        "            parts=[\n",
        "                types.Part.from_text(text=\"\"\"**Analyzing the Sitemap Structure**\n",
        "\n",
        "I've begun examining the XML structure to understand how the sitemap is organized. Initial observations point towards a standard sitemap format, though the specific content related to the provided URL `https://aurelion-an-audio-ai-galaxy-simulation-184571359742.us-west1.run.app/` needs further investigation. My focus is now on identifying key elements and attributes within the XML that relate to this particular endpoint.\n",
        "\n",
        "\n",
        "**Browsing the Provided URL**\n",
        "\n",
        "I'm now browsing the URL provided to understand its content. It appears to be an application. My next step will be to summarize my findings, similar to the process used for the sitemap analysis. I'll focus on identifying key features and functionalities based on the app's behavior and the code I can access. I'm keen to see if this aligns with the initial sitemap analysis and expectations.\n",
        "\n",
        "\n",
        "\"\"\"),\n",
        "                types.Part.from_executable_code(\n",
        "                    code=\"\"\"print(browse(urls=[\\\"https://aurelion-an-audio-ai-galaxy-simulation-184571359742.us-west1.run.app/\\\"]))\n",
        "\"\"\",\n",
        "                    language=types.Language.PYTHON,\n",
        "                ),\n",
        "                types.Part.from_code_execution_result(\n",
        "                    outcome=types.Outcome.OUTCOME_OK,\n",
        "                    output=\"\"\"Browsing the web.\"\"\",\n",
        "                ),\n",
        "            ],\n",
        "        ),\n",
        "        types.Content(\n",
        "            role=\"user\",\n",
        "            parts=[\n",
        "                types.Part.from_text(text=\"\"\"INSERT_INPUT_HERE\"\"\"),\n",
        "            ],\n",
        "        ),\n",
        "    ]\n",
        "    tools = [\n",
        "        types.Tool(url_context=types.UrlContext()),\n",
        "        types.Tool(code_execution=types.ToolCodeExecution),\n",
        "        types.Tool(googleSearch=types.GoogleSearch(\n",
        "        )),\n",
        "    ]\n",
        "    generate_content_config = types.GenerateContentConfig(\n",
        "        thinking_config = types.ThinkingConfig(\n",
        "            thinking_budget=-1,\n",
        "        ),\n",
        "        tools=tools,\n",
        "    )\n",
        "\n",
        "    for chunk in client.models.generate_content_stream(\n",
        "        model=model,\n",
        "        contents=contents,\n",
        "        config=generate_content_config,\n",
        "    ):\n",
        "        if (\n",
        "            chunk.candidates is None\n",
        "            or chunk.candidates[0].content is None\n",
        "            or chunk.candidates[0].content.parts is None\n",
        "        ):\n",
        "            continue\n",
        "        if chunk.candidates[0].content.parts[0].text:\n",
        "            print(chunk.candidates[0].content.parts[0].text, end=\"\")\n",
        "        if chunk.candidates[0].content.parts[0].executable_code:\n",
        "            print(chunk.candidates[0].content.parts[0].executable_code)\n",
        "        if chunk.candidates[0].content.parts[0].code_execution_result:\n",
        "            print(chunk.candidates[0].content.parts[0].code_execution_result)\n",
        "\n",
        "if __name__ == \"__main__\":\n",
        "    generate()\n"
      ],
      "execution_count": null,
      "outputs": []
    }
  ]
}